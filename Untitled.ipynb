{
 "cells": [
  {
   "cell_type": "code",
   "execution_count": 2,
   "source": [
    "import sys\r\n",
    "!{sys.executable} -m pip install numpy\r\n",
    "\r\n"
   ],
   "outputs": [
    {
     "output_type": "stream",
     "name": "stdout",
     "text": [
      "Requirement already satisfied: numpy in c:\\users\\utilisateur\\appdata\\local\\packages\\pythonsoftwarefoundation.python.3.8_qbz5n2kfra8p0\\localcache\\local-packages\\python38\\site-packages (1.21.2)\n"
     ]
    }
   ],
   "metadata": {}
  },
  {
   "cell_type": "code",
   "execution_count": 25,
   "source": [
    "import pandas as pd\r\n",
    "import numpy as np"
   ],
   "outputs": [],
   "metadata": {}
  },
  {
   "cell_type": "code",
   "execution_count": 30,
   "source": [
    "from exo2_arbres_livres import BinaryTree\r\n",
    "\r\n",
    "final_configuration = []\r\n",
    "def knapstack(actions, profits, remaining_budget, item_number, current_tree):\r\n",
    "    global final_configuration\r\n",
    "    if item_number == -1  or remaining_budget == 0:\r\n",
    "\r\n",
    "        return 0\r\n",
    "    if actions[item_number][1] > remaining_budget:\r\n",
    "        current_tree.insertRight(actions[item_number])\r\n",
    "        current_tree.insertLeft(actions[item_number])\r\n",
    "        current_tree = current_tree.getLeftChild()\r\n",
    "        result = knapstack(actions, profits, remaining_budget, item_number - 1, current_tree)\r\n",
    "        return result\r\n",
    "    else:\r\n",
    "        left_choice = [actions[item_number], knapstack(actions,\r\n",
    "                                profits,\r\n",
    "                                remaining_budget,\r\n",
    "                                item_number-1,\r\n",
    "                                current_tree)] \r\n",
    "        right_choice =  [actions[item_number], profits[item_number] + knapstack(actions,\r\n",
    "                                                         profits,\r\n",
    "                                                         remaining_budget - actions[item_number][1],\r\n",
    "                                                         item_number-1,\r\n",
    "                                                         current_tree)]\r\n",
    "        current_tree.insertRight(actions[item_number])\r\n",
    "        current_tree.insertLeft(actions[item_number])\r\n",
    "        result = max(left_choice[1], right_choice[1])\r\n",
    "        if result == left_choice[1]:\r\n",
    "            current_tree = current_tree.getLeftChild()\r\n",
    "            print(left_choice[0])\r\n",
    "            return result\r\n",
    "        elif result == right_choice[1]:\r\n",
    "            print(right_choice[0])\r\n",
    "            current_tree = current_tree.getRightChild()\r\n",
    "            # current_tree.config.append(f\"right choice: {right_choice[0]}\")\r\n",
    "    return result\r\n",
    "        \r\n",
    "def get_configuration(current_tree, remaining_budget, item_number, configuration):\r\n",
    "    if current_tree.config[item_number][1] > remaining_budget:\r\n",
    "        return configuration\r\n",
    "    configuration.append(current_tree.config[item_number])\r\n",
    "    return get_configuration(current_tree,\r\n",
    "                             remaining_budget - current_tree.config[item_number][1],\r\n",
    "                             item_number - 1,\r\n",
    "                             configuration)\r\n",
    "    \r\n",
    "\r\n",
    "# first_tab = pd.read_csv(\"partie_1.csv\", sep=';', encoding='latin-1')\r\n",
    "# list_of_actions = [(first_tab.loc[i].values[0], first_tab.loc[i].values[1], first_tab.loc[i].values[2]) for i in range(len(first_tab))]\r\n",
    "# list_of_profits = [round(action[1] * action[2], 2) for action in list_of_actions]\r\n",
    "# our_tree = BinaryTree('config')\r\n",
    "# a = knapstack(list_of_actions, list_of_profits, 50, len(list_of_actions)-1, our_tree)\r\n",
    "# print(a)\r\n",
    "# final_configuration = get_configuration(our_tree, 50, len(our_tree.config) - 1, [])\r\n",
    "# print(final_configuration)\r\n",
    "# print(our_tree.config)\r\n",
    "\r\n",
    "\r\n",
    "# print(our_tree.getLeftChild().getRootVal())\r\n",
    "\r\n",
    "liste =  [('Action_1', 20, 0.05), ('Action_2', 30, 0.1), ('Action_3', 50, 0.15), ('Action_4', 70, 0.2)]\r\n",
    "revenus = [1.0, 3.0, 7.5, 14.0]\r\n",
    "our_tree = BinaryTree(liste[-1])\r\n",
    "b = knapstack(liste, revenus, 100, len(liste)-1, our_tree)\r\n",
    "print(b)\r\n",
    "# final_configuration = get_configuration(our_tree, 100, len(our_tree.config) - 1, [])\r\n",
    "print(final_configuration)\r\n",
    "print(our_tree.config)\r\n",
    "\r\n",
    "\r\n",
    "def get_tree(tree, liste):\r\n",
    "    res1 = None\r\n",
    "    res2 = None\r\n",
    "    if tree:\r\n",
    "        res1 = get_tree(tree.getLeftChild())\r\n",
    "        res2 = get_tree(tree.getRightChild())\r\n",
    "        if res1 and res2:\r\n",
    "            return opers[tree.getRootVal()](res1,res2)\r\n",
    "        else:\r\n",
    "            return tree.getRootVal()"
   ],
   "outputs": [
    {
     "output_type": "stream",
     "name": "stdout",
     "text": [
      "[]\n",
      "('Action_1', 20, 0.05)\n",
      "('Action_1', 20, 0.05)\n",
      "('Action_2', 30, 0.1)\n",
      "('Action_1', 20, 0.05)\n",
      "('Action_1', 20, 0.05)\n",
      "('Action_2', 30, 0.1)\n",
      "('Action_3', 50, 0.15)\n",
      "('Action_1', 20, 0.05)\n",
      "('Action_2', 30, 0.1)\n",
      "('Action_4', 70, 0.2)\n",
      "17.0\n",
      "[]\n",
      "[]\n"
     ]
    }
   ],
   "metadata": {}
  },
  {
   "cell_type": "code",
   "execution_count": 16,
   "source": [
    "print(our_tree.getRootVal())"
   ],
   "outputs": [
    {
     "output_type": "stream",
     "name": "stdout",
     "text": [
      "('Action_4', 70, 0.2)\n"
     ]
    }
   ],
   "metadata": {}
  },
  {
   "cell_type": "code",
   "execution_count": 17,
   "source": [
    "print(f\"leftChild: {our_tree.getLeftChild().getRootVal()}\")\r\n",
    "print(f\"rightChild: {our_tree.getRightChild().getRootVal()}\")"
   ],
   "outputs": [
    {
     "output_type": "stream",
     "name": "stdout",
     "text": [
      "leftChild: ('Action_4', 70, 0.2)\n",
      "rightChild: ('Action_4', 70, 0.2)\n"
     ]
    }
   ],
   "metadata": {}
  },
  {
   "cell_type": "code",
   "execution_count": 22,
   "source": [
    "print(our_tree.getRightChild().getRightChild().getRootVal())\r\n",
    "print(our_tree.getLeftChild().getLeftChild().getRootVal())"
   ],
   "outputs": [
    {
     "output_type": "stream",
     "name": "stdout",
     "text": [
      "('Action_3', 50, 0.15)\n",
      "('Action_3', 50, 0.15)\n"
     ]
    }
   ],
   "metadata": {}
  },
  {
   "cell_type": "code",
   "execution_count": 23,
   "source": [
    "print(our_tree.getRightChild().getRightChild().getRightChild().getRootVal())\r\n",
    "print(our_tree.getLeftChild().getLeftChild().getLeftChild().getRootVal())"
   ],
   "outputs": [
    {
     "output_type": "stream",
     "name": "stdout",
     "text": [
      "('Action_3', 50, 0.15)\n",
      "('Action_2', 30, 0.1)\n"
     ]
    }
   ],
   "metadata": {}
  },
  {
   "cell_type": "code",
   "execution_count": 27,
   "source": [
    "print(np.ones((5,5)))"
   ],
   "outputs": [
    {
     "output_type": "stream",
     "name": "stdout",
     "text": [
      "[[1. 1. 1. 1. 1.]\n",
      " [1. 1. 1. 1. 1.]\n",
      " [1. 1. 1. 1. 1.]\n",
      " [1. 1. 1. 1. 1.]\n",
      " [1. 1. 1. 1. 1.]]\n"
     ]
    }
   ],
   "metadata": {}
  }
 ],
 "metadata": {
  "kernelspec": {
   "name": "python3",
   "display_name": "Python 3.8.10 64-bit ('projet7': virtualenv)"
  },
  "language_info": {
   "codemirror_mode": {
    "name": "ipython",
    "version": 3
   },
   "file_extension": ".py",
   "mimetype": "text/x-python",
   "name": "python",
   "nbconvert_exporter": "python",
   "pygments_lexer": "ipython3",
   "version": "3.8.10"
  },
  "interpreter": {
   "hash": "d585d5ebe68f8e3d149e211d5a70a7f5a68deee440bca9044b9cda15f0a1d4ee"
  }
 },
 "nbformat": 4,
 "nbformat_minor": 5
}